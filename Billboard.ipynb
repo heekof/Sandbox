{
 "cells": [
  {
   "cell_type": "code",
   "execution_count": 39,
   "metadata": {
    "collapsed": false
   },
   "outputs": [],
   "source": [
    "def start_escape(T):\n",
    "    \"\"\"\n",
    "    Checking if there is too many spaces.\n",
    "    The number of spaces should be equal to the number of words +1.\n",
    "    \"\"\"\n",
    "    if (T.count(\" \") - len(T.split()) + 1 ) == 0:\n",
    "        return True\n",
    "    else:\n",
    "        return False\n",
    "\n",
    "    \n",
    "def check_OK(W, H, S, T):\n",
    "    \"\"\"\n",
    "    Function for checking the inputs\n",
    "    \"\"\"\n",
    "    if W >= 1 and W <= 20 and H >= 1 and H <= 1000 and start_escape(T) and re.match(r'^[A-Za-z0-9_. ]+$', S) is not None:\n",
    "        return True\n",
    "    else:\n",
    "        return False"
   ]
  },
  {
   "cell_type": "code",
   "execution_count": 40,
   "metadata": {
    "collapsed": false
   },
   "outputs": [
    {
     "name": "stdout",
     "output_type": "stream",
     "text": [
      "5 5 toto\n",
      "Tank you !\n"
     ]
    }
   ],
   "source": [
    "\n",
    "\n",
    "# Loop for checking the inputs\n",
    "while 1:\n",
    "    try:\n",
    "        T = raw_input()\n",
    "        # Width\n",
    "        W = int(T.split()[0])\n",
    "        # Height\n",
    "        H = int(T.split()[1])\n",
    "        # Text\n",
    "        S = ' '.join(T.split()[2:])\n",
    "    except:\n",
    "        # If Key error reloop\n",
    "        print('Format Error ! Please retry')\n",
    "        continue\n",
    "    \n",
    "    \n",
    "    \n",
    "    if check_OK(W,H,S,T):\n",
    "        # if inputs are OK break free\n",
    "        print('Tank you !')\n",
    "        break\n",
    "    else:\n",
    "        # Message indicating an error in the user inputs\n",
    "        print(\"Please enter the number of test cases (between 1 and 20): \\n \")        \n",
    "        \n",
    "        \n",
    "        \n",
    "        \n",
    "if __name__ == '__main__':\n",
    "    pass"
   ]
  },
  {
   "cell_type": "code",
   "execution_count": 20,
   "metadata": {
    "collapsed": true
   },
   "outputs": [],
   "source": [
    "def billboard(W,H,S):\n",
    "    \n",
    "    # Initial font size = len(max_word_length)\n",
    "    # The maximum font size is a font where all the words are each in one line if possible\n",
    "    words = S.split()\n",
    "    len_words = [len(w) for w in S]\n",
    "    font = W/(max(len_words)+1) \n",
    "    i = 0\n",
    "    line = 0\n",
    "    col = 0\n",
    "    first = len(words[0])\n",
    "    \n",
    "    # Max iter for avoiding infinite loops while debugging \n",
    "    max_iter = 100\n",
    "    # Try all the fonts from the initial one to 0\n",
    "    while font and max_iter > 1:\n",
    "        \n",
    "        \n",
    "        line=0\n",
    "        max_iter -= 1\n",
    "        # How many letters you can fit in a line\n",
    "        ratio_w = W/font\n",
    "        # How many lines you can fit\n",
    "        ratio_h = H/font\n",
    "        \n",
    "        line = 0\n",
    "        # Everytime we enter this loop we increase the height\n",
    "        #col += 1\n",
    "        first = len(words[0])\n",
    "        line = 0\n",
    "        \n",
    "        for w in words[1:]:\n",
    "            ratio_w = W/font\n",
    "            # How many lines you can fit\n",
    "            ratio_h = H/font\n",
    "            \n",
    "            \n",
    "            \n",
    "            # Check if the sentence length can be fit into the line\n",
    "            if (first+len(w)+1) > ratio_w:\n",
    "            \n",
    "            # if the sentence fits in the line then you need to check if it fits the height !\n",
    "                first = len(w) \n",
    "                line += 1\n",
    "                \n",
    "                \n",
    "                #print font\n",
    "                # Break if we reach the height\n",
    "                # The equal sign is in case we have still words \n",
    "                if line >= ratio_h:\n",
    "                    break\n",
    "                else:\n",
    "                    continue\n",
    "                \n",
    "            # If the sentence can't fit in the line: add the next word to the sentence\n",
    "            # +1 for the added space\n",
    "            else:\n",
    "                first += len(w)+1\n",
    "                \n",
    "        # Exit the loop and keep the result\n",
    "        if line >= ratio_h:\n",
    "            font -= 1\n",
    "        else:\n",
    "            break\n",
    "\n",
    "    return font"
   ]
  },
  {
   "cell_type": "code",
   "execution_count": 21,
   "metadata": {
    "collapsed": false,
    "scrolled": true
   },
   "outputs": [
    {
     "data": {
      "text/plain": [
       "4"
      ]
     },
     "execution_count": 21,
     "metadata": {},
     "output_type": "execute_result"
    }
   ],
   "source": [
    "billboard(10,20,'MUST BE ABLE TO HACK')"
   ]
  },
  {
   "cell_type": "code",
   "execution_count": null,
   "metadata": {
    "collapsed": true
   },
   "outputs": [],
   "source": []
  }
 ],
 "metadata": {
  "kernelspec": {
   "display_name": "Python 2",
   "language": "python",
   "name": "python2"
  },
  "language_info": {
   "codemirror_mode": {
    "name": "ipython",
    "version": 2
   },
   "file_extension": ".py",
   "mimetype": "text/x-python",
   "name": "python",
   "nbconvert_exporter": "python",
   "pygments_lexer": "ipython2",
   "version": "2.7.6"
  }
 },
 "nbformat": 4,
 "nbformat_minor": 1
}
