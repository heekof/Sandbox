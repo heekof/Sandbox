{
 "cells": [
  {
   "cell_type": "markdown",
   "metadata": {
    "collapsed": false
   },
   "source": [
    "# Billboard"
   ]
  },
  {
   "cell_type": "code",
   "execution_count": 89,
   "metadata": {
    "collapsed": true
   },
   "outputs": [],
   "source": [
    "# Regex import for checking the user inputs\n",
    "import re \n",
    "\n",
    "def billboard(W,H,S):\n",
    "    \"\"\"\n",
    "    \n",
    "    The main billboard function.\n",
    "    \n",
    "    Inputs: Takes as inputs the Width, the Height and the Text as string.\n",
    "    \n",
    "    Outputs: returns the font size as an integer\n",
    "    \n",
    "    Description: The main idea of this fucntion is to set an initial font computed as the ratio\n",
    "    \n",
    "    between the Width and the length of biggest word. If the biggest word is superior to the width then \n",
    "    \n",
    "    the resulting font is 0: impossible to fit the text. If the biggest word = Width then the\n",
    "    \n",
    "    font should necessarily be 1.\n",
    "    \n",
    "    The while loop start from the initial font size and performs width and height tests. if the test is\n",
    "    \n",
    "    not passed then decrease the font and restart. If the test passes then break and return the\n",
    "    \n",
    "    font size.\n",
    "    \n",
    "    \n",
    "    \n",
    "    \n",
    "    \"\"\"\n",
    "    \n",
    "    # Initial font size = len(max_word_length)\n",
    "    \n",
    "    # words containts a list of words of the inputed text.\n",
    "    words = S.split()\n",
    "    \n",
    "    # len_words is a list with all the length of the inputed words\n",
    "    len_words = [len(w) for w in words] # found the error here words not S\n",
    "    \n",
    "    # setting the initial font\n",
    "    font = W/(max(len_words)) # Found the error \n",
    "    \n",
    "    print('{} = {}/{} '.format(font,W,max(len_words)))\n",
    "    \n",
    "    i = 0\n",
    "    \n",
    "    line = 0\n",
    "    col = 0\n",
    "    \n",
    "    # Try to fit the first word\n",
    "    first = len(words[0])\n",
    "    \n",
    "    # Max iter for avoiding infinite loops while debugging. The program will stop after 1000 loop\n",
    "    max_iter = 1000\n",
    "    i=0\n",
    "    \n",
    "    # Try all the fonts from the initial one descending to 0\n",
    "    while font and max_iter > 1:        \n",
    "        \n",
    "        line=0\n",
    "        \n",
    "        max_iter -= 1\n",
    "        \n",
    "        # How many letters you can fit in a line with the following font.\n",
    "        max_letters = W/font\n",
    "        \n",
    "        # How many lines you can fit with the this font\n",
    "        max_lines = H/font\n",
    "        \n",
    "        # Everytime we enter this loop we increase the height\n",
    "        #col += 1\n",
    "        # Try to fit the first word !\n",
    "        n_letters = len(words[0])\n",
    "        \n",
    "        \n",
    "        for w in words[1:]:\n",
    "            \n",
    "            \n",
    "            # Check if the sentence/word length can be fit into the line\n",
    "            # The first iteration is tries the first word and the second word.\n",
    "            # We don't need to check the first word only ! Because if the first word is bigger than \n",
    "            # +1 for the space between the words\n",
    "            \n",
    "            enter = n_letters+len(w)+1\n",
    "            \n",
    "            print(\"{}: The font is {} the line is {} the enter word is {}\".format(i,font,line,enter))\n",
    "            \n",
    "            \n",
    "           \n",
    "            \n",
    "            \n",
    "            \n",
    "            if enter >= max_letters: # Found the error +len(w)+1\n",
    "            \n",
    "            # if the sentence doesnt fit in the line then you need to add a new line \n",
    "            # increase line counter\n",
    "                \n",
    "                # Restart counting from the word that didn't fit as the start of the new line\n",
    "                n_letters = len(w) \n",
    "                \n",
    "                # increase the line counter\n",
    "                line += 1\n",
    "                \n",
    "                \n",
    "                #print font\n",
    "                \n",
    "                # Break if we reach the height\n",
    "                # if number of lines doesn't fit then break, ==> reduce the font and repeat\n",
    "                if line >= max_lines:\n",
    "                    break\n",
    "                else:\n",
    "                    continue\n",
    "                \n",
    "            # if the sentence fits the line then\n",
    "            # add the word to the line and reloop to try with the next word\n",
    "            else:\n",
    "                n_letters += len(w)\n",
    "                 \n",
    "        # Exit the loop and keep the result otherwise decrease the font\n",
    "        if line >= max_lines:\n",
    "            font -= 1\n",
    "            i += 1\n",
    "        else:\n",
    "            break\n",
    "\n",
    "    return font\n",
    "\n",
    "def start_escape(T):\n",
    "    \"\"\"\n",
    "    Checking if there is too many spaces.\n",
    "    The number of spaces should be equal to the number of words +1.\n",
    "    \"\"\"\n",
    "    if (T.count(\" \") - len(T.split()) + 1 ) == 0:\n",
    "        return True\n",
    "    else:\n",
    "        return False\n",
    "\n",
    "def check_format(T):\n",
    "    S = ' '.join(T.split())\n",
    "    if re.match(r'^[A-Za-z0-9_. ]+$', S) is not None:\n",
    "        return True\n",
    "    \n",
    "def check_OK(T):\n",
    "    \"\"\"\n",
    "    Function for checking the inputs\n",
    "    \"\"\"\n",
    "    # Width\n",
    "    W = int(T.split()[0])\n",
    "    # Height\n",
    "    H = int(T.split()[1])\n",
    "    # Text\n",
    "    S = ' '.join(T.split()[2:])\n",
    "    \n",
    "    if W >= 1 and H >= 1 and H <= 1000 and start_escape(T) and check_format(T):\n",
    "        return True\n",
    "    else:\n",
    "        return False"
   ]
  },
  {
   "cell_type": "code",
   "execution_count": 92,
   "metadata": {
    "collapsed": false
   },
   "outputs": [
    {
     "name": "stdout",
     "output_type": "stream",
     "text": [
      "\n",
      " Please enter an integer between 1 and 20: \n",
      "1\n",
      "\n",
      " Thank you !\n",
      "\n",
      " Please enter the billborad width height and text\n",
      "1 1 totototototototo to\n",
      "\n",
      " Thank you !\n",
      "0 = 1/16 \n",
      "\n",
      " Case #:1 the result is 0 \n",
      "\n"
     ]
    }
   ],
   "source": [
    "while 1:\n",
    "    try:\n",
    "        print(\"\\n Please enter an integer between 1 and 20: \")\n",
    "        case = input()\n",
    "        if case and case >= 1 and case <= 20:\n",
    "            # if inputs are OK break free\n",
    "            print('\\n Thank you !')\n",
    "            break\n",
    "        else:\n",
    "            # Message indicating an error in the user inputs\n",
    "            print(\"\\n Error: Please enter an integer between 1 and 20: \\n \")\n",
    "    except:\n",
    "        # If Key error reloop\n",
    "        print('\\n Format Error ! Please retry')\n",
    "        continue\n",
    "    \n",
    "    \n",
    "for c in range(case):\n",
    "    \n",
    "    # Loop for checking the inputs\n",
    "    while 1:\n",
    "        try:\n",
    "            print(\"\\n Please enter the billborad width height and text\")\n",
    "            T = raw_input()\n",
    "            # Width\n",
    "            W = int(T.split()[0])\n",
    "            # Height\n",
    "            H = int(T.split()[1])\n",
    "            # Text\n",
    "            S = ' '.join(T.split()[2:])\n",
    "        except:\n",
    "            # If Key error reloop\n",
    "            print('Format Error ! Please retry')\n",
    "            continue\n",
    "\n",
    "\n",
    "\n",
    "        if check_OK(T):\n",
    "            # if inputs are OK break free\n",
    "            print('\\n Thank you !')\n",
    "            break\n",
    "        else:\n",
    "            # Message indicating an error in the user inputs\n",
    "            print(\"\\n Please enter the number of test cases (between 1 and 20): \\n \")        \n",
    "\n",
    "    print(\"\\n Case #:{} the result is {} \\n\".format(c+1,billboard(W,H,S)))\n",
    "\n",
    "\n"
   ]
  },
  {
   "cell_type": "code",
   "execution_count": 87,
   "metadata": {
    "collapsed": false
   },
   "outputs": [],
   "source": [
    "S = 'MUST BE ABLE TO HACK'\n",
    "\n",
    "words = S.split()\n",
    "    \n",
    "# len_words is a list with all the length of the inputed words\n",
    "len_words = [len(w) for w in words]"
   ]
  },
  {
   "cell_type": "code",
   "execution_count": 88,
   "metadata": {
    "collapsed": false
   },
   "outputs": [
    {
     "data": {
      "text/plain": [
       "[4, 2, 4, 2, 4]"
      ]
     },
     "execution_count": 88,
     "metadata": {},
     "output_type": "execute_result"
    }
   ],
   "source": [
    "len_words"
   ]
  },
  {
   "cell_type": "markdown",
   "metadata": {},
   "source": [
    "### Example "
   ]
  },
  {
   "cell_type": "raw",
   "metadata": {
    "collapsed": true
   },
   "source": [
    "Example input\n",
    "\n",
    "5\n",
    "20 6 hacker cup \n",
    "100 20 hacker cup 2013\n",
    "10 20 MUST BE ABLE TO HACK\n",
    "55 25 Can you hack\n",
    "100 20 Hack your way to the cup\n",
    "\n",
    "Example output\n",
    "\n",
    "Case #1: 3\n",
    "Case #2: 10\n",
    "Case #3: 2\n",
    "Case #4: 8\n",
    "Case #5: 7"
   ]
  },
  {
   "cell_type": "markdown",
   "metadata": {},
   "source": [
    "###  Unit Tests"
   ]
  },
  {
   "cell_type": "code",
   "execution_count": 43,
   "metadata": {
    "collapsed": false
   },
   "outputs": [
    {
     "name": "stdout",
     "output_type": "stream",
     "text": [
      "5 5 toto\n",
      "True\n",
      "True\n",
      "<_sre.SRE_Match object at 0x7fccfc33e988>\n"
     ]
    }
   ],
   "source": [
    "T = raw_input()\n",
    "print check_OK(T)\n",
    "print start_escape(T)\n",
    "print re.match(r'^[A-Za-z0-9_. ]+$', T)"
   ]
  },
  {
   "cell_type": "code",
   "execution_count": 42,
   "metadata": {
    "collapsed": false
   },
   "outputs": [
    {
     "data": {
      "text/plain": [
       "4"
      ]
     },
     "execution_count": 42,
     "metadata": {},
     "output_type": "execute_result"
    }
   ],
   "source": [
    "billboard(10,20,'MUST BE ABLE TO HACK')"
   ]
  },
  {
   "cell_type": "code",
   "execution_count": null,
   "metadata": {
    "collapsed": true
   },
   "outputs": [],
   "source": []
  }
 ],
 "metadata": {
  "kernelspec": {
   "display_name": "Python 2",
   "language": "python",
   "name": "python2"
  },
  "language_info": {
   "codemirror_mode": {
    "name": "ipython",
    "version": 2
   },
   "file_extension": ".py",
   "mimetype": "text/x-python",
   "name": "python",
   "nbconvert_exporter": "python",
   "pygments_lexer": "ipython2",
   "version": "2.7.6"
  }
 },
 "nbformat": 4,
 "nbformat_minor": 1
}
