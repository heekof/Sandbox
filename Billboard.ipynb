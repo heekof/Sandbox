{
 "cells": [
  {
   "cell_type": "code",
   "execution_count": 2,
   "metadata": {
    "collapsed": false
   },
   "outputs": [],
   "source": []
  },
  {
   "cell_type": "code",
   "execution_count": 39,
   "metadata": {
    "collapsed": true
   },
   "outputs": [],
   "source": [
    "import re \n",
    "\n",
    "def billboard(W,H,S):\n",
    "    \"\"\"\n",
    "    The main billboard function.\n",
    "    \n",
    "    \"\"\"\n",
    "    \n",
    "    # Initial font size = len(max_word_length)\n",
    "    # The maximum font size is a font where all the words are each in one line if possible\n",
    "    words = S.split()\n",
    "    len_words = [len(w) for w in S]\n",
    "    font = W/(max(len_words)+1) \n",
    "    i = 0\n",
    "    line = 0\n",
    "    col = 0\n",
    "    first = len(words[0])\n",
    "    \n",
    "    # Max iter for avoiding infinite loops while debugging \n",
    "    max_iter = 100\n",
    "    # Try all the fonts from the initial one to 0\n",
    "    while font and max_iter > 1:\n",
    "        \n",
    "        \n",
    "        line=0\n",
    "        max_iter -= 1\n",
    "        # How many letters you can fit in a line\n",
    "        ratio_w = W/font\n",
    "        # How many lines you can fit\n",
    "        ratio_h = H/font\n",
    "        \n",
    "        line = 0\n",
    "        # Everytime we enter this loop we increase the height\n",
    "        #col += 1\n",
    "        first = len(words[0])\n",
    "        line = 0\n",
    "        \n",
    "        for w in words[1:]:\n",
    "            ratio_w = W/font\n",
    "            # How many lines you can fit\n",
    "            ratio_h = H/font\n",
    "            \n",
    "            \n",
    "            \n",
    "            # Check if the sentence length can be fit into the line\n",
    "            if (first+len(w)+1) > ratio_w:\n",
    "            \n",
    "            # if the sentence fits in the line then you need to check if it fits the height !\n",
    "                first = len(w) \n",
    "                line += 1\n",
    "                \n",
    "                \n",
    "                #print font\n",
    "                # Break if we reach the height\n",
    "                # The equal sign is in case we have still words \n",
    "                if line >= ratio_h:\n",
    "                    break\n",
    "                else:\n",
    "                    continue\n",
    "                \n",
    "            # If the sentence can't fit in the line: add the next word to the sentence\n",
    "            # +1 for the added space\n",
    "            else:\n",
    "                first += len(w)+1\n",
    "                \n",
    "        # Exit the loop and keep the result otherwise decrease the font\n",
    "        if line >= ratio_h:\n",
    "            font -= 1\n",
    "        else:\n",
    "            break\n",
    "\n",
    "    return font\n",
    "\n",
    "def start_escape(T):\n",
    "    \"\"\"\n",
    "    Checking if there is too many spaces.\n",
    "    The number of spaces should be equal to the number of words +1.\n",
    "    \"\"\"\n",
    "    if (T.count(\" \") - len(T.split()) + 1 ) == 0:\n",
    "        return True\n",
    "    else:\n",
    "        return False\n",
    "\n",
    "def check_format(T):\n",
    "    S = ' '.join(T.split())\n",
    "    if re.match(r'^[A-Za-z0-9_. ]+$', S) is not None:\n",
    "        return True\n",
    "    \n",
    "def check_OK(T):\n",
    "    \"\"\"\n",
    "    Function for checking the inputs\n",
    "    \"\"\"\n",
    "    # Width\n",
    "    W = int(T.split()[0])\n",
    "    # Height\n",
    "    H = int(T.split()[1])\n",
    "    # Text\n",
    "    S = ' '.join(T.split()[2:])\n",
    "    \n",
    "    if W >= 1 and H >= 1 and H <= 1000 and start_escape(T) and check_format(T):\n",
    "        return True\n",
    "    else:\n",
    "        return False"
   ]
  },
  {
   "cell_type": "code",
   "execution_count": 40,
   "metadata": {
    "collapsed": false
   },
   "outputs": [
    {
     "name": "stdout",
     "output_type": "stream",
     "text": [
      "\n",
      " Please enter an integer between 1 and 20: \n",
      "5\n",
      "\n",
      " Thank you !\n",
      "\n",
      " Please enter the billborad width height and text\n",
      "100 20 hacker cup 2013\n",
      "\n",
      " Thank you !\n",
      "\n",
      " Case #:1 the result is 10 \n",
      "\n",
      "\n",
      " Please enter the billborad width height and text\n",
      "20 6 hacker cup\n",
      "\n",
      " Thank you !\n",
      "\n",
      " Case #:2 the result is 3 \n",
      "\n",
      "\n",
      " Please enter the billborad width height and text\n",
      "10 20 MUST BE ABLE TO HACK\n",
      "\n",
      " Thank you !\n",
      "\n",
      " Case #:3 the result is 4 \n",
      "\n",
      "\n",
      " Please enter the billborad width height and text\n",
      "55 25 Can you hack\n",
      "\n",
      " Thank you !\n",
      "\n",
      " Case #:4 the result is 8 \n",
      "\n",
      "\n",
      " Please enter the billborad width height and text\n",
      "100 20 Hack your way to the cup\n",
      "\n",
      " Thank you !\n",
      "\n",
      " Case #:5 the result is 7 \n",
      "\n"
     ]
    }
   ],
   "source": [
    "while 1:\n",
    "    try:\n",
    "        print(\"\\n Please enter an integer between 1 and 20: \")\n",
    "        case = input()\n",
    "        if case and case >= 1 and case <= 20:\n",
    "            # if inputs are OK break free\n",
    "            print('\\n Thank you !')\n",
    "            break\n",
    "        else:\n",
    "            # Message indicating an error in the user inputs\n",
    "            print(\"\\n Error: Please enter an integer between 1 and 20: \\n \")\n",
    "    except:\n",
    "        # If Key error reloop\n",
    "        print('\\n Format Error ! Please retry')\n",
    "        continue\n",
    "    \n",
    "    \n",
    "for c in range(case):\n",
    "    \n",
    "    # Loop for checking the inputs\n",
    "    while 1:\n",
    "        try:\n",
    "            print(\"\\n Please enter the billborad width height and text\")\n",
    "            T = raw_input()\n",
    "            # Width\n",
    "            W = int(T.split()[0])\n",
    "            # Height\n",
    "            H = int(T.split()[1])\n",
    "            # Text\n",
    "            S = ' '.join(T.split()[2:])\n",
    "        except:\n",
    "            # If Key error reloop\n",
    "            print('Format Error ! Please retry')\n",
    "            continue\n",
    "\n",
    "\n",
    "\n",
    "        if check_OK(T):\n",
    "            # if inputs are OK break free\n",
    "            print('\\n Thank you !')\n",
    "            break\n",
    "        else:\n",
    "            # Message indicating an error in the user inputs\n",
    "            print(\"\\n Please enter the number of test cases (between 1 and 20): \\n \")        \n",
    "\n",
    "    print(\"\\n Case #:{} the result is {} \\n\".format(c+1,billboard(W,H,S)))\n",
    "\n",
    "\n"
   ]
  },
  {
   "cell_type": "code",
   "execution_count": 37,
   "metadata": {
    "collapsed": false
   },
   "outputs": [
    {
     "name": "stdout",
     "output_type": "stream",
     "text": [
      "100 20 hacker cup 2013\n",
      "False\n",
      "True\n",
      "<_sre.SRE_Match object at 0x7fccfc2a8e68>\n"
     ]
    }
   ],
   "source": []
  },
  {
   "cell_type": "code",
   "execution_count": 4,
   "metadata": {
    "collapsed": false
   },
   "outputs": [
    {
     "data": {
      "text/plain": [
       "['toto', 'toto']"
      ]
     },
     "execution_count": 4,
     "metadata": {},
     "output_type": "execute_result"
    }
   ],
   "source": [
    "'toto toto'.split()"
   ]
  },
  {
   "cell_type": "code",
   "execution_count": 21,
   "metadata": {
    "collapsed": false,
    "scrolled": true
   },
   "outputs": [
    {
     "data": {
      "text/plain": [
       "4"
      ]
     },
     "execution_count": 21,
     "metadata": {},
     "output_type": "execute_result"
    }
   ],
   "source": []
  },
  {
   "cell_type": "markdown",
   "metadata": {
    "collapsed": true
   },
   "source": [
    "Example input\n",
    "\n",
    "5\n",
    "20 6 hacker cup \\li\n",
    "100 20 hacker cup 2013\n",
    "10 20 MUST BE ABLE TO HACK\n",
    "55 25 Can you hack\n",
    "100 20 Hack your way to the cup\n",
    "\n",
    "Example output\n",
    "\n",
    "Case #1: 3\n",
    "Case #2: 10\n",
    "Case #3: 2\n",
    "Case #4: 8\n",
    "Case #5: 7"
   ]
  },
  {
   "cell_type": "markdown",
   "metadata": {},
   "source": [
    "###  Unit Tests"
   ]
  },
  {
   "cell_type": "code",
   "execution_count": 43,
   "metadata": {
    "collapsed": false
   },
   "outputs": [
    {
     "name": "stdout",
     "output_type": "stream",
     "text": [
      "5 5 toto\n",
      "True\n",
      "True\n",
      "<_sre.SRE_Match object at 0x7fccfc33e988>\n"
     ]
    }
   ],
   "source": [
    "T = raw_input()\n",
    "print check_OK(T)\n",
    "print start_escape(T)\n",
    "print re.match(r'^[A-Za-z0-9_. ]+$', T)"
   ]
  },
  {
   "cell_type": "code",
   "execution_count": 42,
   "metadata": {
    "collapsed": false
   },
   "outputs": [
    {
     "data": {
      "text/plain": [
       "4"
      ]
     },
     "execution_count": 42,
     "metadata": {},
     "output_type": "execute_result"
    }
   ],
   "source": [
    "billboard(10,20,'MUST BE ABLE TO HACK')"
   ]
  },
  {
   "cell_type": "code",
   "execution_count": null,
   "metadata": {
    "collapsed": true
   },
   "outputs": [],
   "source": []
  }
 ],
 "metadata": {
  "kernelspec": {
   "display_name": "Python 2",
   "language": "python",
   "name": "python2"
  },
  "language_info": {
   "codemirror_mode": {
    "name": "ipython",
    "version": 2
   },
   "file_extension": ".py",
   "mimetype": "text/x-python",
   "name": "python",
   "nbconvert_exporter": "python",
   "pygments_lexer": "ipython2",
   "version": "2.7.6"
  }
 },
 "nbformat": 4,
 "nbformat_minor": 1
}
